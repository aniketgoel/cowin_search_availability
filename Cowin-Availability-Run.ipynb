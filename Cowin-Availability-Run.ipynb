{
 "cells": [
  {
   "cell_type": "code",
   "execution_count": 1,
   "id": "3e6bbf7c",
   "metadata": {},
   "outputs": [],
   "source": [
    "%run Cowin-Availability-Functions.ipynb"
   ]
  },
  {
   "cell_type": "markdown",
   "id": "handed-highway",
   "metadata": {},
   "source": [
    "### Set search Parameters\n",
    "\n",
    "1. Find and list all the district ids you want to search together"
   ]
  },
  {
   "cell_type": "code",
   "execution_count": 2,
   "id": "aea7c162",
   "metadata": {},
   "outputs": [
    {
     "data": {
      "text/html": [
       "<div>\n",
       "<style scoped>\n",
       "    .dataframe tbody tr th:only-of-type {\n",
       "        vertical-align: middle;\n",
       "    }\n",
       "\n",
       "    .dataframe tbody tr th {\n",
       "        vertical-align: top;\n",
       "    }\n",
       "\n",
       "    .dataframe thead th {\n",
       "        text-align: right;\n",
       "    }\n",
       "</style>\n",
       "<table border=\"1\" class=\"dataframe\">\n",
       "  <thead>\n",
       "    <tr style=\"text-align: right;\">\n",
       "      <th></th>\n",
       "      <th>district_id</th>\n",
       "      <th>district_name</th>\n",
       "      <th>state_name</th>\n",
       "    </tr>\n",
       "  </thead>\n",
       "  <tbody>\n",
       "    <tr>\n",
       "      <th>0</th>\n",
       "      <td>188</td>\n",
       "      <td>Gurgaon</td>\n",
       "      <td>Haryana</td>\n",
       "    </tr>\n",
       "  </tbody>\n",
       "</table>\n",
       "</div>"
      ],
      "text/plain": [
       "   district_id district_name state_name\n",
       "0          188       Gurgaon    Haryana"
      ]
     },
     "execution_count": 2,
     "metadata": {},
     "output_type": "execute_result"
    }
   ],
   "source": [
    "# Function to lookup the district code\n",
    "# all_district[all_district.state_id == 9]\n",
    "find_my_district('gurg')"
   ]
  },
  {
   "cell_type": "code",
   "execution_count": 3,
   "id": "retained-directive",
   "metadata": {},
   "outputs": [],
   "source": [
    "district_list = [650,651,652]\n",
    "# district_list = [188]\n",
    "# district_list = [188]"
   ]
  },
  {
   "cell_type": "markdown",
   "id": "parliamentary-accreditation",
   "metadata": {},
   "source": [
    "2. Choose Age Limit for searching"
   ]
  },
  {
   "cell_type": "code",
   "execution_count": 4,
   "id": "cubic-scholarship",
   "metadata": {},
   "outputs": [],
   "source": [
    "# age_limit = 45\n",
    "# or\n",
    "age_limit = 18"
   ]
  },
  {
   "cell_type": "markdown",
   "id": "acting-uncertainty",
   "metadata": {},
   "source": [
    "3. Choose minimum availability as 1 or above"
   ]
  },
  {
   "cell_type": "code",
   "execution_count": 5,
   "id": "bizarre-patch",
   "metadata": {},
   "outputs": [],
   "source": [
    "minimum_availability = 1"
   ]
  },
  {
   "cell_type": "markdown",
   "id": "mineral-security",
   "metadata": {},
   "source": [
    "## This is where search will happening, once the minimum availability in any of the district for chosen age limit is found it alert you by opening YouTube Video in new tab."
   ]
  },
  {
   "cell_type": "code",
   "execution_count": null,
   "id": "93f0bfc8",
   "metadata": {
    "scrolled": true
   },
   "outputs": [
    {
     "name": "stdout",
     "output_type": "stream",
     "text": [
      "Checking.... 1\n",
      "Checking.... 2\n",
      "Checking.... 3\n",
      "Checking.... 4\n",
      "Checking.... 5\n",
      "Checking.... 6\n",
      "Checking.... 7\n",
      "Checking.... 8\n",
      "Checking.... 9\n"
     ]
    }
   ],
   "source": [
    "i = 0\n",
    "while 1:\n",
    "\n",
    "    df_available = check_availability(age_limit, district_list, minimum_availability)\n",
    "    if (df_available.shape[0] > 0):\n",
    "        display(df_available)\n",
    "        webbrowser.open(youtube_alert, new=2)\n",
    "        break\n",
    "    else:\n",
    "        i = i + 1\n",
    "        print(f'Checking.... {i}')\n",
    "        sleep(30)    #in seconds"
   ]
  },
  {
   "cell_type": "code",
   "execution_count": null,
   "id": "cathedral-operation",
   "metadata": {},
   "outputs": [],
   "source": [
    "# Dataframe containing list of available centers is -\n",
    "# df_available"
   ]
  }
 ],
 "metadata": {
  "kernelspec": {
   "display_name": "Python 3",
   "language": "python",
   "name": "python3"
  },
  "language_info": {
   "codemirror_mode": {
    "name": "ipython",
    "version": 3
   },
   "file_extension": ".py",
   "mimetype": "text/x-python",
   "name": "python",
   "nbconvert_exporter": "python",
   "pygments_lexer": "ipython3",
   "version": "3.8.8"
  }
 },
 "nbformat": 4,
 "nbformat_minor": 5
}
