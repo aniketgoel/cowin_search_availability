{
 "cells": [
  {
   "cell_type": "code",
   "execution_count": null,
   "id": "d0d57baf",
   "metadata": {},
   "outputs": [],
   "source": [
    "import pandas as pd\n",
    "import datetime\n",
    "import requests\n",
    "import webbrowser\n",
    "from time import sleep\n",
    "from pandas.io.json import json_normalize\n",
    "from IPython.display import display, HTML\n",
    "\n",
    "youtube_alert = 'https://www.youtube.com/watch?v=io-oreIAuTM&ab_channel=MinistryofHealth%26FamilyWelfare'\n",
    "headers = {'User-Agent': 'Mozilla/5.0 (Windows NT 6.1; WOW64) AppleWebKit/537.36 (KHTML, like Gecko) Chrome/56.0.2924.76 Safari/537.36'}"
   ]
  },
  {
   "cell_type": "code",
   "execution_count": null,
   "id": "2b7b892a",
   "metadata": {},
   "outputs": [],
   "source": [
    "def get_states():\n",
    "    states = requests.get('https://cdn-api.co-vin.in/api/v2/admin/location/states', headers=headers).json()['states']\n",
    "    return pd.DataFrame(states)"
   ]
  },
  {
   "cell_type": "code",
   "execution_count": null,
   "id": "1b5f9ef6",
   "metadata": {},
   "outputs": [],
   "source": [
    "def get_districts(x):\n",
    "    state_id = x.state_id\n",
    "    state_name = x.state_name\n",
    "    data = requests.get(f'https://cdn-api.co-vin.in/api/v2/admin/location/districts/{state_id}', headers=headers).json()['districts']\n",
    "    districts = pd.DataFrame(data)\n",
    "    districts['state_id'] = state_id\n",
    "    districts['state_name'] = state_name\n",
    "    return districts"
   ]
  },
  {
   "cell_type": "code",
   "execution_count": null,
   "id": "cdaff633",
   "metadata": {},
   "outputs": [],
   "source": [
    "def run_once_a_day():\n",
    "    base_date = datetime.datetime.today()\n",
    "    date_list = [(base_date + datetime.timedelta(days=7*x)).strftime('%d-%m-%Y') for x in range(5)]\n",
    "\n",
    "    try:\n",
    "        states = get_states()\n",
    "        temp = states.apply(lambda x: get_districts(x), axis = 1)\n",
    "        all_district = pd.concat([temp[i] for i in range(0,len(temp))], ignore_index=True)\n",
    "    except:\n",
    "        raise Exception('Link not working - Try after 10 Mins')\n",
    "\n",
    "    return date_list, all_district"
   ]
  },
  {
   "cell_type": "code",
   "execution_count": null,
   "id": "5026459d",
   "metadata": {},
   "outputs": [],
   "source": [
    "def find_my_district(name):\n",
    "    temp = all_district[all_district.district_name.str.lower().str.startswith(str(name).lower())].reset_index(drop=True).copy()\n",
    "    temp.drop(columns = 'state_id', inplace=True)\n",
    "    return temp"
   ]
  },
  {
   "cell_type": "code",
   "execution_count": null,
   "id": "e90c8dfb",
   "metadata": {},
   "outputs": [],
   "source": [
    "def get_data(district_id, date):\n",
    "    try:\n",
    "        data = requests.get(f\"https://cdn-api.co-vin.in/api/v2/appointment/sessions/public/calendarByDistrict?district_id={district_id}&date={date}\", headers=headers).json()\n",
    "        df = pd.json_normalize(data=data['centers'], record_path='sessions', meta=['name','address','district_name','pincode'],errors='ignore')\n",
    "    except:\n",
    "        raise Exception('Link not working - Try after 10 Mins')\n",
    "    \n",
    "    return df"
   ]
  },
  {
   "cell_type": "code",
   "execution_count": null,
   "id": "fbf97bf8",
   "metadata": {},
   "outputs": [],
   "source": [
    "def check_availability(age_limit , district_list, minimum_availability):\n",
    "\n",
    "    df = pd.concat([get_data(district_id, date) for date in date_list for district_id in district_list], ignore_index=True)\n",
    "    if df.shape[0] > 0:\n",
    "        df.drop(columns=['session_id','slots'], axis=1, inplace=True)\n",
    "        df.date = pd.to_datetime(df.date, format='%d-%m-%Y')\n",
    "        available = df[(df.min_age_limit == age_limit) & (df.available_capacity >= minimum_availability)].sort_values(by=['date','available_capacity']).reset_index(drop=True)\n",
    "        return available\n",
    "    else: return pd.DataFrame()"
   ]
  },
  {
   "cell_type": "code",
   "execution_count": null,
   "id": "3e6bbf7c",
   "metadata": {},
   "outputs": [],
   "source": [
    "date_list, all_district = run_once_a_day()"
   ]
  }
 ],
 "metadata": {
  "kernelspec": {
   "display_name": "Python 3",
   "language": "python",
   "name": "python3"
  },
  "language_info": {
   "codemirror_mode": {
    "name": "ipython",
    "version": 3
   },
   "file_extension": ".py",
   "mimetype": "text/x-python",
   "name": "python",
   "nbconvert_exporter": "python",
   "pygments_lexer": "ipython3",
   "version": "3.8.8"
  }
 },
 "nbformat": 4,
 "nbformat_minor": 5
}
